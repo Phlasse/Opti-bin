{
 "cells": [
  {
   "cell_type": "code",
   "execution_count": 2,
   "metadata": {},
   "outputs": [],
   "source": [
    "import pandas as pd\n",
    "import numpy as np\n",
    "import matplotlib.pyplot as plt"
   ]
  },
  {
   "cell_type": "code",
   "execution_count": 3,
   "metadata": {},
   "outputs": [],
   "source": [
    "data = pd.read_csv(\"data/data_50hz.csv\")"
   ]
  },
  {
   "cell_type": "code",
   "execution_count": 4,
   "metadata": {},
   "outputs": [
    {
     "data": {
      "text/plain": [
       "(array([3., 0., 0., 1., 1., 3., 1., 0., 3., 2., 2., 3., 1., 1., 4., 3., 1.,\n",
       "        2., 3., 1., 0., 5., 5., 2., 4., 7., 4., 3., 5., 2., 3., 1., 1., 1.,\n",
       "        2., 3., 2., 1., 3., 2., 2., 3., 2., 0., 0., 1., 0., 0., 0., 1.]),\n",
       " array([0.3371  , 0.337718, 0.338336, 0.338954, 0.339572, 0.34019 ,\n",
       "        0.340808, 0.341426, 0.342044, 0.342662, 0.34328 , 0.343898,\n",
       "        0.344516, 0.345134, 0.345752, 0.34637 , 0.346988, 0.347606,\n",
       "        0.348224, 0.348842, 0.34946 , 0.350078, 0.350696, 0.351314,\n",
       "        0.351932, 0.35255 , 0.353168, 0.353786, 0.354404, 0.355022,\n",
       "        0.35564 , 0.356258, 0.356876, 0.357494, 0.358112, 0.35873 ,\n",
       "        0.359348, 0.359966, 0.360584, 0.361202, 0.36182 , 0.362438,\n",
       "        0.363056, 0.363674, 0.364292, 0.36491 , 0.365528, 0.366146,\n",
       "        0.366764, 0.367382, 0.368   ]),\n",
       " <BarContainer object of 50 artists>)"
      ]
     },
     "execution_count": 4,
     "metadata": {},
     "output_type": "execute_result"
    },
    {
     "data": {
      "image/png": "[encoded data removed]",
      "text/plain": [
       "<Figure size 432x288 with 1 Axes>"
      ]
     },
     "metadata": {
      "needs_background": "light"
     },
     "output_type": "display_data"
    }
   ],
   "source": [
    "plt.hist(data.messdaten, bins=50)"
   ]
  },
  {
   "cell_type": "code",
   "execution_count": 5,
   "metadata": {},
   "outputs": [
    {
     "data": {
      "text/plain": [
       "Unnamed: 0    100\n",
       "serial#       100\n",
       "messdaten      81\n",
       "dtype: int64"
      ]
     },
     "execution_count": 5,
     "metadata": {},
     "output_type": "execute_result"
    }
   ],
   "source": [
    "data = data.sort_values(by=['messdaten'])\n",
    "data.nunique()"
   ]
  },
  {
   "cell_type": "code",
   "execution_count": 6,
   "metadata": {},
   "outputs": [],
   "source": [
    "def get_bins(X, top=4, corridor=(1.75, 1.8)):\n",
    "    df = X\n",
    "    bin_dfs=[]\n",
    "    bin_neu = []\n",
    "    #df = df[df[\"serial#\"] != df.iloc[0][\"serial#\"]]\n",
    "    tops = 0\n",
    "    while len(df.messdaten)>0:\n",
    "            if bin_neu ==[]:\n",
    "                bin_neu = df[0:1]\n",
    "                df = df[df[\"serial#\"] != bin_neu.iloc[-1][\"serial#\"]]#df[0:1][\"serial#\"]]\n",
    "            for i in range(4):\n",
    "                ziel_avg = (corridor[0]-np.sum(bin_neu.messdaten))/(5-len(bin_neu.messdaten))\n",
    "                bin_neu = pd.concat([bin_neu, df[df.messdaten > ziel_avg].head(1)], axis=0)\n",
    "                df = df[df[\"serial#\"] != bin_neu.iloc[-1][\"serial#\"]]\n",
    "            bin_dfs.append(bin_neu)\n",
    "            bin_neu=[]\n",
    "                #df = df[df[\"serial#\"] != df[df.messdaten > ziel_avg][0:1].iloc[0][\"serial#\"]]\n",
    "                #if len(bin_neu.messdaten) >4:\n",
    "                 #   bin_dfs.append(bin_neu)\n",
    "                  #  bin_neu=[]'''\n",
    "            if tops < top:\n",
    "                if bin_neu ==[]:\n",
    "                    bin_neu = df.tail(1)\n",
    "                    df = df[df[\"serial#\"] != bin_neu.iloc[-1][\"serial#\"]]\n",
    "                for i in range(4):\n",
    "                    ziel_avg = (corridor[1]-np.sum(bin_neu.messdaten))/(5-len(bin_neu.messdaten))\n",
    "                    bin_neu = pd.concat([bin_neu, df[df.messdaten < ziel_avg].tail(1)], axis=0)\n",
    "                    df = df[df[\"serial#\"] != bin_neu.iloc[-1][\"serial#\"]]\n",
    "                bin_dfs.append(bin_neu)\n",
    "                bin_neu=[]\n",
    "                tops+=1\n",
    "                \n",
    "        \n",
    "    return bin_dfs"
   ]
  },
  {
   "cell_type": "code",
   "execution_count": 7,
   "metadata": {},
   "outputs": [],
   "source": [
    "def create_bin_stats(X):\n",
    "    #set bin ids\n",
    "    bin_no = []\n",
    "    no = 1\n",
    "    for i in range(len(X)//5):\n",
    "        for j in range(5):\n",
    "            bin_no.append(no)\n",
    "        no+=1\n",
    "    X[\"bin\"] = bin_no\n",
    "    bin_stats = X.groupby(by=\"bin\").agg({\"messdaten\":\"sum\"}).rename(columns = {\"messdaten\":\"bin_sum\"})\n",
    "    bin_stats[\"bin_dif\"] = X.groupby(by=\"bin\").agg({\"messdaten\":\"max\"}) - X.groupby(by=\"bin\").agg({\"messdaten\":\"min\"})\n",
    "    X = X.merge(bin_stats, on=\"bin\")\n",
    "    return X"
   ]
  },
  {
   "cell_type": "code",
   "execution_count": 8,
   "metadata": {},
   "outputs": [],
   "source": [
    "def create_new_list(bin_list):\n",
    "    start = bin_list[0]\n",
    "    for i in bin_list[1:]:\n",
    "        start=pd.concat([start, i], axis=0)\n",
    "    cleaned_list = create_bin_stats(start)\n",
    "    return cleaned_list"
   ]
  },
  {
   "cell_type": "code",
   "execution_count": null,
   "metadata": {},
   "outputs": [],
   "source": []
  }
 ],
 "metadata": {
  "kernelspec": {
   "display_name": "Python 3",
   "language": "python",
   "name": "python3"
  },
  "language_info": {
   "codemirror_mode": {
    "name": "ipython",
    "version": 3
   },
   "file_extension": ".py",
   "mimetype": "text/x-python",
   "name": "python",
   "nbconvert_exporter": "python",
   "pygments_lexer": "ipython3",
   "version": "3.7.7"
  }
 },
 "nbformat": 4,
 "nbformat_minor": 4
}
